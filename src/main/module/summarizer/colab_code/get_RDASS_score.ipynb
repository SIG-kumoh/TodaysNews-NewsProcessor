{
 "cells": [
  {
   "cell_type": "code",
   "execution_count": null,
   "id": "initial_id",
   "metadata": {
    "collapsed": true
   },
   "outputs": [],
   "source": [
    "%pip install transformers==4.32.1\n",
    "%pip install sentence-transformers==2.2.2"
   ]
  },
  {
   "cell_type": "code",
   "execution_count": null,
   "outputs": [],
   "source": [
    "import torch\n",
    "from transformers import PreTrainedTokenizerFast\n",
    "from transformers import BartForConditionalGeneration\n",
    "\n",
    "tokenizer = PreTrainedTokenizerFast.from_pretrained('digit82/kobart-summarization')\n",
    "model = BartForConditionalGeneration.from_pretrained('/content/drive/MyDrive/data/kobart_summary')\n",
    "model2 = BartForConditionalGeneration.from_pretrained('digit82/kobart-summarization')\n",
    "\n",
    "\n",
    "def summarization(text):\n",
    "    text = text.replace('\\n', ' ')\n",
    "\n",
    "    raw_input_ids = tokenizer.encode(text)\n",
    "    input_ids = [tokenizer.bos_token_id] + raw_input_ids + [tokenizer.eos_token_id]\n",
    "    if len(input_ids) > 1026:\n",
    "        print(len(input_ids))\n",
    "        input_ids = input_ids[:1026]\n",
    "        print(input_ids)\n",
    "    summary_ids = model.generate(torch.tensor([input_ids]), num_beams=4, max_length=1024, eos_token_id=1)\n",
    "    return tokenizer.decode(summary_ids.squeeze().tolist(), skip_special_tokens=True)\n",
    "\n",
    "\n",
    "def summarization2(text):\n",
    "    text = text.replace('\\n', ' ')\n",
    "\n",
    "    raw_input_ids = tokenizer.encode(text)\n",
    "    input_ids = [tokenizer.bos_token_id] + raw_input_ids + [tokenizer.eos_token_id]\n",
    "    if len(input_ids) > 1026:\n",
    "        print(len(input_ids))\n",
    "        input_ids = input_ids[:1026]\n",
    "        print(input_ids)\n",
    "    summary_ids = model2.generate(torch.tensor([input_ids]), num_beams=4, max_length=1024, eos_token_id=1)\n",
    "    return tokenizer.decode(summary_ids.squeeze().tolist(), skip_special_tokens=True)"
   ],
   "metadata": {
    "collapsed": false
   },
   "id": "b3b1ce9bf99fb1bf"
  },
  {
   "cell_type": "code",
   "execution_count": null,
   "outputs": [],
   "source": [
    "from numpy import dot\n",
    "from numpy.linalg import norm\n",
    "\n",
    "def cal_cos_sim(a, b):\n",
    "    return dot(a, b) / (norm(a) * norm(b))\n",
    "\n",
    "\n",
    "def get_RDASS(d, r, p):\n",
    "    return (cal_cos_sim(p, r) + cal_cos_sim(p, d)) / 2"
   ],
   "metadata": {
    "collapsed": false
   },
   "id": "d44aa5412ae5ebf3"
  },
  {
   "cell_type": "code",
   "execution_count": null,
   "outputs": [],
   "source": [
    "import pandas as pd\n",
    "\n",
    "df = pd.read_csv(\"/content/drive/MyDrive/data/test.tsv\", delimiter='\\t')"
   ],
   "metadata": {
    "collapsed": false
   },
   "id": "54f78d61cb95d571"
  },
  {
   "cell_type": "code",
   "execution_count": null,
   "outputs": [],
   "source": [
    "from tqdm import tqdm\n",
    "from sentence_transformers import SentenceTransformer\n",
    "\n",
    "s_bert = SentenceTransformer('jhgan/ko-sroberta-nli')\n",
    "\n",
    "\n",
    "def cal_average_RDASS(summarize_method):\n",
    "    RDASS_sum = 0\n",
    "    \n",
    "    for cur in tqdm(range(len(df))):\n",
    "        docs = df.loc[cur].news\n",
    "        reference = df.loc[cur].summary\n",
    "        predict = summarize_method(docs)\n",
    "        \n",
    "        embedding_docs = s_bert.encode(docs)\n",
    "        embedding_reference = s_bert.encode(reference)\n",
    "        embedding_predict = s_bert.encode(predict)\n",
    "        \n",
    "        RDASS_sum += get_RDASS(embedding_docs, \n",
    "                               embedding_reference, \n",
    "                               embedding_predict)\n",
    "        \n",
    "    return RDASS_sum / len(df)"
   ],
   "metadata": {
    "collapsed": false
   },
   "id": "da9132759dc4bd8d"
  },
  {
   "cell_type": "code",
   "execution_count": null,
   "outputs": [],
   "source": [
    "original_score = cal_average_RDASS(summarization2)\n",
    "fine_tuning_score = cal_average_RDASS(summarization)\n",
    "\n",
    "print(f'기존 모델 : {original_score}')\n",
    "print(f'파인 튜닝 후 : {fine_tuning_score}')"
   ],
   "metadata": {
    "collapsed": false
   },
   "id": "a0bad6ae7143d723"
  }
 ],
 "metadata": {
  "kernelspec": {
   "display_name": "Python 3",
   "language": "python",
   "name": "python3"
  },
  "language_info": {
   "codemirror_mode": {
    "name": "ipython",
    "version": 2
   },
   "file_extension": ".py",
   "mimetype": "text/x-python",
   "name": "python",
   "nbconvert_exporter": "python",
   "pygments_lexer": "ipython2",
   "version": "2.7.6"
  }
 },
 "nbformat": 4,
 "nbformat_minor": 5
}
