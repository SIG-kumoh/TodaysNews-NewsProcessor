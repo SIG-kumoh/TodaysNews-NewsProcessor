{
 "cells": [
  {
   "cell_type": "code",
   "execution_count": null,
   "id": "initial_id",
   "metadata": {
    "collapsed": true
   },
   "outputs": [],
   "source": [
    "%pip install Rouge\n",
    "%pip install transformers==4.32.1"
   ]
  },
  {
   "cell_type": "code",
   "execution_count": null,
   "outputs": [],
   "source": [
    "from rouge import Rouge\n",
    "import pandas as pd\n",
    "from tqdm import tqdm"
   ],
   "metadata": {
    "collapsed": false
   },
   "id": "9b4bfbf3d6dde00c"
  },
  {
   "cell_type": "code",
   "execution_count": null,
   "outputs": [],
   "source": [
    "import torch\n",
    "from transformers import PreTrainedTokenizerFast\n",
    "from transformers import BartForConditionalGeneration\n",
    "\n",
    "tokenizer = PreTrainedTokenizerFast.from_pretrained('digit82/kobart-summarization')\n",
    "model = BartForConditionalGeneration.from_pretrained('/content/drive/MyDrive/data/kobart_summary')\n",
    "model2 = BartForConditionalGeneration.from_pretrained('digit82/kobart-summarization')\n",
    "\n",
    "\n",
    "def summarization(text):\n",
    "    text = text.replace('\\n', ' ')\n",
    "\n",
    "    raw_input_ids = tokenizer.encode(text)\n",
    "    input_ids = [tokenizer.bos_token_id] + raw_input_ids + [tokenizer.eos_token_id]\n",
    "    if len(input_ids) > 1026:\n",
    "        print(len(input_ids))\n",
    "        input_ids = input_ids[:1026]\n",
    "        print(input_ids)\n",
    "    summary_ids = model.generate(torch.tensor([input_ids]), num_beams=4, max_length=1024, eos_token_id=1)\n",
    "    return tokenizer.decode(summary_ids.squeeze().tolist(), skip_special_tokens=True)\n",
    "\n",
    "\n",
    "def summarization2(text):\n",
    "    text = text.replace('\\n', ' ')\n",
    "\n",
    "    raw_input_ids = tokenizer.encode(text)\n",
    "    input_ids = [tokenizer.bos_token_id] + raw_input_ids + [tokenizer.eos_token_id]\n",
    "    if len(input_ids) > 1026:\n",
    "        print(len(input_ids))\n",
    "        input_ids = input_ids[:1026]\n",
    "        print(input_ids)\n",
    "    summary_ids = model2.generate(torch.tensor([input_ids]), num_beams=4, max_length=1024, eos_token_id=1)\n",
    "    return tokenizer.decode(summary_ids.squeeze().tolist(), skip_special_tokens=True)"
   ],
   "metadata": {
    "collapsed": false
   },
   "id": "b106d4ed7c28752"
  },
  {
   "cell_type": "code",
   "execution_count": null,
   "outputs": [],
   "source": [
    "df = pd.read_csv(\"/content/drive/MyDrive/data/test.tsv\", delimiter='\\t')\n",
    "rouge = Rouge()\n",
    "rouge_1_r = 0\n",
    "rouge_1_p = 0\n",
    "rouge_1_f = 0\n",
    "rouge_2_r = 0\n",
    "rouge_2_p = 0\n",
    "rouge_2_f = 0\n",
    "rouge_l_r = 0\n",
    "rouge_l_p = 0\n",
    "rouge_l_f = 0"
   ],
   "metadata": {
    "collapsed": false
   },
   "id": "c430df975812e7e9"
  },
  {
   "cell_type": "code",
   "execution_count": null,
   "outputs": [],
   "source": [
    "for cur in tqdm(range(len(df))):\n",
    "    model_out = summarization(df.loc[cur].news)\n",
    "    reference = df.loc[cur].summary\n",
    "    scores = rouge.get_scores(model_out, reference, avg=True)\n",
    "\n",
    "    rouge_1_r += scores.get('rouge-1').get('r')\n",
    "    rouge_1_p += scores.get('rouge-1').get('p')\n",
    "    rouge_1_f += scores.get('rouge-1').get('f')\n",
    "    rouge_2_r += scores.get('rouge-2').get('r')\n",
    "    rouge_2_p += scores.get('rouge-2').get('p')\n",
    "    rouge_2_f += scores.get('rouge-2').get('f')\n",
    "    rouge_l_r += scores.get('rouge-l').get('r')\n",
    "    rouge_l_p += scores.get('rouge-l').get('p')\n",
    "    rouge_l_f += scores.get('rouge-l').get('f')"
   ],
   "metadata": {
    "collapsed": false
   },
   "id": "f0ae78800dda75a4"
  },
  {
   "cell_type": "code",
   "execution_count": 1,
   "outputs": [
    {
     "ename": "NameError",
     "evalue": "name 'rouge_1_r' is not defined",
     "output_type": "error",
     "traceback": [
      "\u001B[1;31m---------------------------------------------------------------------------\u001B[0m",
      "\u001B[1;31mNameError\u001B[0m                                 Traceback (most recent call last)",
      "Cell \u001B[1;32mIn[1], line 1\u001B[0m\n\u001B[1;32m----> 1\u001B[0m \u001B[38;5;28mprint\u001B[39m(\u001B[38;5;124mf\u001B[39m\u001B[38;5;124m'\u001B[39m\u001B[38;5;124mrouge-1 f : \u001B[39m\u001B[38;5;132;01m{\u001B[39;00mrouge_1_r\u001B[38;5;250m \u001B[39m\u001B[38;5;241m/\u001B[39m\u001B[38;5;250m \u001B[39m\u001B[38;5;28mlen\u001B[39m(df)\u001B[38;5;132;01m}\u001B[39;00m\u001B[38;5;124m'\u001B[39m)\n\u001B[0;32m      2\u001B[0m \u001B[38;5;28mprint\u001B[39m(\u001B[38;5;124mf\u001B[39m\u001B[38;5;124m'\u001B[39m\u001B[38;5;124mrouge-1 f : \u001B[39m\u001B[38;5;132;01m{\u001B[39;00mrouge_1_r\u001B[38;5;250m \u001B[39m\u001B[38;5;241m/\u001B[39m\u001B[38;5;250m \u001B[39m\u001B[38;5;28mlen\u001B[39m(df)\u001B[38;5;132;01m}\u001B[39;00m\u001B[38;5;124m'\u001B[39m)\n\u001B[0;32m      3\u001B[0m \u001B[38;5;28mprint\u001B[39m(\u001B[38;5;124mf\u001B[39m\u001B[38;5;124m'\u001B[39m\u001B[38;5;124mrouge-1 f : \u001B[39m\u001B[38;5;132;01m{\u001B[39;00mrouge_1_r\u001B[38;5;250m \u001B[39m\u001B[38;5;241m/\u001B[39m\u001B[38;5;250m \u001B[39m\u001B[38;5;28mlen\u001B[39m(df)\u001B[38;5;132;01m}\u001B[39;00m\u001B[38;5;124m'\u001B[39m)\n",
      "\u001B[1;31mNameError\u001B[0m: name 'rouge_1_r' is not defined"
     ]
    }
   ],
   "source": [
    "print(f'rouge-1 r : {rouge_1_r / len(df)}')\n",
    "print(f'rouge-1 p : {rouge_1_p / len(df)}')\n",
    "print(f'rouge-1 f : {rouge_1_f / len(df)}')\n",
    "print(f'rouge-2 r : {rouge_2_r / len(df)}')\n",
    "print(f'rouge-2 p : {rouge_2_p / len(df)}')\n",
    "print(f'rouge-2 f : {rouge_2_f / len(df)}')\n",
    "print(f'rouge-l r : {rouge_l_r / len(df)}')\n",
    "print(f'rouge-l p : {rouge_1_p / len(df)}')\n",
    "print(f'rouge-l f : {rouge_1_f / len(df)}')"
   ],
   "metadata": {
    "collapsed": false,
    "ExecuteTime": {
     "end_time": "2023-10-06T11:25:24.336324500Z",
     "start_time": "2023-10-06T11:25:24.038256300Z"
    }
   },
   "id": "8a3f4a85b1a15509"
  }
 ],
 "metadata": {
  "kernelspec": {
   "display_name": "Python 3",
   "language": "python",
   "name": "python3"
  },
  "language_info": {
   "codemirror_mode": {
    "name": "ipython",
    "version": 2
   },
   "file_extension": ".py",
   "mimetype": "text/x-python",
   "name": "python",
   "nbconvert_exporter": "python",
   "pygments_lexer": "ipython2",
   "version": "2.7.6"
  }
 },
 "nbformat": 4,
 "nbformat_minor": 5
}
